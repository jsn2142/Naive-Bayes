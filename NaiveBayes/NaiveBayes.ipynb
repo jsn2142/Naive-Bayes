{
 "cells": [
  {
   "cell_type": "code",
   "execution_count": 1,
   "metadata": {},
   "outputs": [
    {
     "name": "stdout",
     "output_type": "stream",
     "text": [
      "Values of rating after conversion: \n",
      "[0 1 1 ... 1 0 1]\n"
     ]
    }
   ],
   "source": [
    "import pandas as pd\n",
    "import numpy as np\n",
    "import matplotlib.pyplot as plt\n",
    "import time\n",
    "from sklearn.model_selection import train_test_split\n",
    "from sklearn.naive_bayes import GaussianNB, BernoulliNB, MultinomialNB\n",
    "\n",
    "# Importing dataset\n",
    "dataset = pd.read_csv(\"ratings_small.csv\")\n",
    "\n",
    "# Convert categorical variable to numeric\n",
    "dataset[\"ratingNew\"]=np.where(dataset[\"rating\"]<=2.5,0,1)\n",
    "dataset=dataset[[\n",
    "    \"userId\",\n",
    "    \"movieId\",\n",
    "    \"ratingNew\"\n",
    "]].dropna(axis=0, how='any') \n",
    "\n",
    "X = dataset.iloc[:, 0:2].values  \n",
    "y = dataset.iloc[:, 2].values\n",
    "\n",
    "print(\"Values of rating after conversion: \")\n",
    "print(y)\n",
    "    \n",
    "# Split dataset in training and test datasets\n",
    "X_train, X_test = train_test_split(dataset, test_size=0.3, random_state=int(time.time()))"
   ]
  },
  {
   "cell_type": "code",
   "execution_count": 2,
   "metadata": {
    "scrolled": false
   },
   "outputs": [
    {
     "name": "stdout",
     "output_type": "stream",
     "text": [
      "Number of mislabeled points out of a total 30002\n",
      " points : 5127\n",
      " performance 82.91%\n"
     ]
    }
   ],
   "source": [
    "# Instantiate the classifier\n",
    "gnb = GaussianNB()\n",
    "features =[\n",
    "     \"userId\",\n",
    "     \"movieId\",\n",
    "     \"ratingNew\"\n",
    "]\n",
    "\n",
    "# Train classifier\n",
    "gnb.fit(\n",
    "    X_train[features].values,\n",
    "    X_train[\"ratingNew\"]\n",
    ")\n",
    "predict_y = gnb.predict(X_test[features])\n",
    "\n",
    "# Print results\n",
    "print(\"Number of mislabeled points out of a total {}\\n points : {}\\n performance {:05.2f}%\"\n",
    "      .format(\n",
    "          X_test.shape[0],\n",
    "          (X_test[\"ratingNew\"] != predict_y).sum(),\n",
    "          100*(1-(X_test[\"ratingNew\"] != predict_y).sum()/X_test.shape[0])\n",
    "))"
   ]
  },
  {
   "cell_type": "code",
   "execution_count": 3,
   "metadata": {},
   "outputs": [
    {
     "name": "stdout",
     "output_type": "stream",
     "text": [
      "Showing the predicted values for ratingNew: \n",
      "[1 1 1 ... 1 1 1]\n"
     ]
    }
   ],
   "source": [
    "print(\"Showing the predicted values for ratingNew: \")\n",
    "print(predict_y)"
   ]
  },
  {
   "cell_type": "code",
   "execution_count": 6,
   "metadata": {},
   "outputs": [
    {
     "name": "stdout",
     "output_type": "stream",
     "text": [
      "[[  129  5310]\n",
      " [  524 24039]]\n",
      "              precision    recall  f1-score   support\n",
      "\n",
      "           0       0.20      0.02      0.04      5439\n",
      "           1       0.82      0.98      0.89     24563\n",
      "\n",
      "   micro avg       0.81      0.81      0.81     30002\n",
      "   macro avg       0.51      0.50      0.47     30002\n",
      "weighted avg       0.71      0.81      0.74     30002\n",
      "\n",
      "Accuracy: \n",
      "80.55 %\n"
     ]
    }
   ],
   "source": [
    "from sklearn.metrics import classification_report, confusion_matrix, accuracy_score\n",
    "X_train,X_test,y_train,y_test=train_test_split(X,y,test_size=.30)\n",
    "\n",
    "# precision, recall, f1-score, support\n",
    "print(confusion_matrix(y_test,predict_y.round()))  \n",
    "print(classification_report(y_test,predict_y.round()))  \n",
    "print(\"Accuracy: \")\n",
    "print(round(accuracy_score(y_test,predict_y.round())*100,2),\"%\")"
   ]
  },
  {
   "cell_type": "code",
   "execution_count": null,
   "metadata": {},
   "outputs": [],
   "source": []
  }
 ],
 "metadata": {
  "kernelspec": {
   "display_name": "Python 3",
   "language": "python",
   "name": "python3"
  },
  "language_info": {
   "codemirror_mode": {
    "name": "ipython",
    "version": 3
   },
   "file_extension": ".py",
   "mimetype": "text/x-python",
   "name": "python",
   "nbconvert_exporter": "python",
   "pygments_lexer": "ipython3",
   "version": "3.7.1"
  }
 },
 "nbformat": 4,
 "nbformat_minor": 2
}
